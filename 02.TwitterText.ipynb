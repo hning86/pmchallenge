{
 "cells": [
  {
   "cell_type": "code",
   "execution_count": 1,
   "metadata": {},
   "outputs": [],
   "source": [
    "%matplotlib inline\n",
    "import pandas as pd\n",
    "import numpy as np\n",
    "import matplotlib \n",
    "from matplotlib import pyplot as plt\n",
    "import sklearn\n",
    "import nltk\n",
    "import string\n",
    "\n",
    "from nltk.corpus import stopwords\n",
    "from nltk.corpus import stopwords\n",
    "from nltk.tokenize import word_tokenize\n",
    "from nltk.stem import PorterStemmer\n",
    "\n",
    "from sklearn.feature_extraction.text import TfidfVectorizer, HashingVectorizer, TfidfTransformer\n",
    "from sklearn.model_selection import train_test_split\n",
    "from sklearn.linear_model import LogisticRegression\n",
    "from sklearn import metrics\n",
    "from sklearn.svm import SVC\n",
    "from sklearn.pipeline import make_pipeline\n",
    "from sklearn.model_selection import KFold"
   ]
  },
  {
   "cell_type": "code",
   "execution_count": 2,
   "metadata": {},
   "outputs": [
    {
     "data": {
      "text/plain": [
       "0    9197\n",
       "1     994\n",
       "Name: label, dtype: int64"
      ]
     },
     "execution_count": 2,
     "metadata": {},
     "output_type": "execute_result"
    }
   ],
   "source": [
    "df = pd.read_csv('PMChallenge2018/challenge2-train.txt', names=['label', 'text'], sep='\\t')\n",
    "df['label'].value_counts()"
   ]
  },
  {
   "cell_type": "code",
   "execution_count": 3,
   "metadata": {},
   "outputs": [],
   "source": [
    "exclude = set(string.punctuation)\n",
    "ps = PorterStemmer()\n",
    "stop_words = set(stopwords.words('english'))\n",
    "\n",
    "# tolower, remove punctuation, stem words, and tokenize\n",
    "def preproc(text):\n",
    "    text = text.lower()\n",
    "    text = ''.join(ch for ch in text if ch not in exclude)\n",
    "    text = ps.stem(text)\n",
    "    word_tokens = word_tokenize(text)\n",
    "    filtered_sentence = [ps.stem(w) for w in word_tokens if not w in stop_words]\n",
    "    return ' '.join(filtered_sentence)"
   ]
  },
  {
   "cell_type": "code",
   "execution_count": 4,
   "metadata": {},
   "outputs": [
    {
     "data": {
      "text/html": [
       "<div>\n",
       "<style scoped>\n",
       "    .dataframe tbody tr th:only-of-type {\n",
       "        vertical-align: middle;\n",
       "    }\n",
       "\n",
       "    .dataframe tbody tr th {\n",
       "        vertical-align: top;\n",
       "    }\n",
       "\n",
       "    .dataframe thead th {\n",
       "        text-align: right;\n",
       "    }\n",
       "</style>\n",
       "<table border=\"1\" class=\"dataframe\">\n",
       "  <thead>\n",
       "    <tr style=\"text-align: right;\">\n",
       "      <th></th>\n",
       "      <th>label</th>\n",
       "      <th>text</th>\n",
       "      <th>feature</th>\n",
       "    </tr>\n",
       "  </thead>\n",
       "  <tbody>\n",
       "    <tr>\n",
       "      <th>0</th>\n",
       "      <td>0</td>\n",
       "      <td>Has Ben Carson started talking about hummus ye...</td>\n",
       "      <td>ben carson start talk hummu yet curiou find ha...</td>\n",
       "    </tr>\n",
       "    <tr>\n",
       "      <th>1</th>\n",
       "      <td>0</td>\n",
       "      <td>Christie: Obama created ISIS by not launching ...</td>\n",
       "      <td>christi obama creat isi launch war irangopdeb</td>\n",
       "    </tr>\n",
       "    <tr>\n",
       "      <th>2</th>\n",
       "      <td>1</td>\n",
       "      <td>Trump is right, you can't fight everyone at th...</td>\n",
       "      <td>trump right cant fight everyon timethi dude ac...</td>\n",
       "    </tr>\n",
       "    <tr>\n",
       "      <th>3</th>\n",
       "      <td>0</td>\n",
       "      <td>#GOPDebate I'm somewhat amazed that I'm hearin...</td>\n",
       "      <td>gopdeb im somewhat amaz im hear someth resembl...</td>\n",
       "    </tr>\n",
       "    <tr>\n",
       "      <th>4</th>\n",
       "      <td>0</td>\n",
       "      <td>The ins and outs of the American Dream is unde...</td>\n",
       "      <td>in out american dream understood ricksantorum ...</td>\n",
       "    </tr>\n",
       "    <tr>\n",
       "      <th>5</th>\n",
       "      <td>0</td>\n",
       "      <td>So the #GOPDebate seems to be running on fear?...</td>\n",
       "      <td>gopdeb seem run fear got</td>\n",
       "    </tr>\n",
       "    <tr>\n",
       "      <th>6</th>\n",
       "      <td>0</td>\n",
       "      <td>Charlie sheen: did someone say winning? #GOPDe...</td>\n",
       "      <td>charli sheen someon say win gopdeb</td>\n",
       "    </tr>\n",
       "    <tr>\n",
       "      <th>7</th>\n",
       "      <td>0</td>\n",
       "      <td>I guess you might say Ted's mouth is on... Cru...</td>\n",
       "      <td>guess might say ted mouth cruz control gopdeb</td>\n",
       "    </tr>\n",
       "    <tr>\n",
       "      <th>8</th>\n",
       "      <td>0</td>\n",
       "      <td>Since they lack central nervous systems, tuxed...</td>\n",
       "      <td>sinc lack central nervou system tuxedo cap rar...</td>\n",
       "    </tr>\n",
       "    <tr>\n",
       "      <th>9</th>\n",
       "      <td>1</td>\n",
       "      <td>To be quite frank, Trump is right #GOPDebate</td>\n",
       "      <td>quit frank trump right gopdeb</td>\n",
       "    </tr>\n",
       "  </tbody>\n",
       "</table>\n",
       "</div>"
      ],
      "text/plain": [
       "   label                                               text  \\\n",
       "0      0  Has Ben Carson started talking about hummus ye...   \n",
       "1      0  Christie: Obama created ISIS by not launching ...   \n",
       "2      1  Trump is right, you can't fight everyone at th...   \n",
       "3      0  #GOPDebate I'm somewhat amazed that I'm hearin...   \n",
       "4      0  The ins and outs of the American Dream is unde...   \n",
       "5      0  So the #GOPDebate seems to be running on fear?...   \n",
       "6      0  Charlie sheen: did someone say winning? #GOPDe...   \n",
       "7      0  I guess you might say Ted's mouth is on... Cru...   \n",
       "8      0  Since they lack central nervous systems, tuxed...   \n",
       "9      1       To be quite frank, Trump is right #GOPDebate   \n",
       "\n",
       "                                             feature  \n",
       "0  ben carson start talk hummu yet curiou find ha...  \n",
       "1      christi obama creat isi launch war irangopdeb  \n",
       "2  trump right cant fight everyon timethi dude ac...  \n",
       "3  gopdeb im somewhat amaz im hear someth resembl...  \n",
       "4  in out american dream understood ricksantorum ...  \n",
       "5                           gopdeb seem run fear got  \n",
       "6                 charli sheen someon say win gopdeb  \n",
       "7      guess might say ted mouth cruz control gopdeb  \n",
       "8  sinc lack central nervou system tuxedo cap rar...  \n",
       "9                      quit frank trump right gopdeb  "
      ]
     },
     "execution_count": 4,
     "metadata": {},
     "output_type": "execute_result"
    }
   ],
   "source": [
    "# preprocess \"text\" column into \"feature\" column\n",
    "df['feature'] = df['text'].apply(lambda x: preproc(x))\n",
    "df.head(10)"
   ]
  },
  {
   "cell_type": "code",
   "execution_count": 5,
   "metadata": {},
   "outputs": [],
   "source": [
    "# TF (no IDF) on \"feature\" column\n",
    "vectorizer = TfidfVectorizer(max_df=0.5, max_features=1000, min_df=2, stop_words='english', use_idf=False)\n",
    "t = vectorizer.fit(df['feature'])\n",
    "X = t.transform(df['feature'])\n",
    "#X = vectorizer.fit_transform(df['feature'])\n",
    "y = np.array(df['label'])\n",
    "X_train, X_test, y_train, y_test =  train_test_split(X, y, test_size=0.33, random_state=432)"
   ]
  },
  {
   "cell_type": "code",
   "execution_count": 6,
   "metadata": {},
   "outputs": [
    {
     "data": {
      "text/plain": [
       "0.74473802060008965"
      ]
     },
     "execution_count": 6,
     "metadata": {},
     "output_type": "execute_result"
    }
   ],
   "source": [
    "# simple logistic regression\n",
    "lr = sklearn.linear_model.LogisticRegression()\n",
    "lr.fit(X_train, y_train)\n",
    "y_pred = lr.predict(X_test)\n",
    "fpr, tpr, thresholds = metrics.roc_curve(y_test, y_pred)\n",
    "metrics.auc(fpr, tpr)"
   ]
  },
  {
   "cell_type": "code",
   "execution_count": 7,
   "metadata": {},
   "outputs": [
    {
     "data": {
      "text/plain": [
       "0.84367816091954018"
      ]
     },
     "execution_count": 7,
     "metadata": {},
     "output_type": "execute_result"
    }
   ],
   "source": [
    "# SVM Classifier with linear kernel\n",
    "svc = SVC(kernel='linear')\n",
    "svc.fit(X_train, y_train)\n",
    "y_pred = svc.predict(X_test)\n",
    "fpr, tpr, thresholds = metrics.roc_curve(y_test, y_pred)\n",
    "metrics.auc(fpr, tpr)"
   ]
  },
  {
   "cell_type": "code",
   "execution_count": 8,
   "metadata": {},
   "outputs": [
    {
     "data": {
      "text/plain": [
       "0.79795491864457391"
      ]
     },
     "execution_count": 8,
     "metadata": {},
     "output_type": "execute_result"
    }
   ],
   "source": [
    "# Linear SVM Classifier\n",
    "lsvc = sklearn.svm.LinearSVC()\n",
    "lsvc.fit(X_train, y_train)\n",
    "y_pred = lsvc.predict(X_test)\n",
    "fpr, tpr, thresholds = metrics.roc_curve(y_test, y_pred)\n",
    "metrics.auc(fpr, tpr)"
   ]
  },
  {
   "cell_type": "code",
   "execution_count": 9,
   "metadata": {},
   "outputs": [
    {
     "data": {
      "text/plain": [
       "0.85333631885356032"
      ]
     },
     "execution_count": 9,
     "metadata": {},
     "output_type": "execute_result"
    }
   ],
   "source": [
    "# Gradient Boosted Tree\n",
    "from sklearn import ensemble\n",
    "gbc = sklearn.ensemble.GradientBoostingClassifier()\n",
    "gbc.fit(X_train, y_train)\n",
    "y_pred = gbc.predict(X_test)\n",
    "fpr, tpr, thresholds = metrics.roc_curve(y_test, y_pred)\n",
    "metrics.auc(fpr, tpr)"
   ]
  },
  {
   "cell_type": "code",
   "execution_count": 10,
   "metadata": {},
   "outputs": [
    {
     "name": "stdout",
     "output_type": "stream",
     "text": [
      "Average AUC in 2 folds cross valudation: 0.9505368912650316\n"
     ]
    },
    {
     "data": {
      "image/png": "[encoded data removed]",
      "text/plain": [
       "<matplotlib.figure.Figure at 0x1a0bc63550>"
      ]
     },
     "metadata": {},
     "output_type": "display_data"
    }
   ],
   "source": [
    "# 2 fold cross validation\n",
    "from sklearn.metrics import roc_curve, auc\n",
    "from sklearn.model_selection import KFold\n",
    "from scipy import interp\n",
    "# Run classifier with cross-validation and plot ROC curves\n",
    "n = 2\n",
    "cv = KFold(n_splits=n)\n",
    "#classifier = sklearn.ensemble.GradientBoostingClassifier()\n",
    "classifier = sklearn.linear_model.LogisticRegression()\n",
    "#classifier = sklearn.svm.SVC(probability=True, kernel='linear')\n",
    "\n",
    "tprs = []\n",
    "aucs = []\n",
    "mean_fpr = np.linspace(0, 1, 100)\n",
    "\n",
    "i = 0\n",
    "for train, test in cv.split(X, y):\n",
    "    probas_ = classifier.fit(X[train], y[train]).predict_proba(X[test])\n",
    "    # Compute ROC curve and area the curve\n",
    "    fpr, tpr, thresholds = roc_curve(y[test], probas_[:, 1])\n",
    "    tprs.append(interp(mean_fpr, fpr, tpr))\n",
    "    tprs[-1][0] = 0.0\n",
    "    roc_auc = auc(fpr, tpr)\n",
    "    aucs.append(roc_auc)\n",
    "    plt.plot(fpr, tpr, lw=2, alpha=0.8, label='ROC fold %d (AUC = %0.2f)' % (i, roc_auc))\n",
    "    \n",
    "print ('Average AUC in {} folds cross valudation: {}'.format(n, np.average(aucs)))"
   ]
  },
  {
   "cell_type": "code",
   "execution_count": 11,
   "metadata": {},
   "outputs": [],
   "source": [
    "# now train again on the entire set\n",
    "m = classifier.fit(X, y)"
   ]
  },
  {
   "cell_type": "code",
   "execution_count": 22,
   "metadata": {},
   "outputs": [
    {
     "data": {
      "text/html": [
       "<div>\n",
       "<style scoped>\n",
       "    .dataframe tbody tr th:only-of-type {\n",
       "        vertical-align: middle;\n",
       "    }\n",
       "\n",
       "    .dataframe tbody tr th {\n",
       "        vertical-align: top;\n",
       "    }\n",
       "\n",
       "    .dataframe thead th {\n",
       "        text-align: right;\n",
       "    }\n",
       "</style>\n",
       "<table border=\"1\" class=\"dataframe\">\n",
       "  <thead>\n",
       "    <tr style=\"text-align: right;\">\n",
       "      <th></th>\n",
       "      <th>label</th>\n",
       "      <th>text</th>\n",
       "      <th>feature</th>\n",
       "    </tr>\n",
       "  </thead>\n",
       "  <tbody>\n",
       "    <tr>\n",
       "      <th>0</th>\n",
       "      <td>0.832307</td>\n",
       "      <td>It's TRUE how ppl cannot see it, they are all ...</td>\n",
       "      <td>true ppl see say thing trump said gopdeb trump...</td>\n",
       "    </tr>\n",
       "    <tr>\n",
       "      <th>1</th>\n",
       "      <td>0.030791</td>\n",
       "      <td>@JeffreyToobin please tell @wolfblitzer to KIL...</td>\n",
       "      <td>jeffreytoobin pleas tell wolfblitz kill microp...</td>\n",
       "    </tr>\n",
       "    <tr>\n",
       "      <th>2</th>\n",
       "      <td>0.022389</td>\n",
       "      <td>If this debate was high school, I think I'd wa...</td>\n",
       "      <td>debat high school think id want ted cruz take ...</td>\n",
       "    </tr>\n",
       "    <tr>\n",
       "      <th>3</th>\n",
       "      <td>0.019604</td>\n",
       "      <td>War. Death. Fear. Killing. The only themes of ...</td>\n",
       "      <td>war death fear kill theme tonight gopdeb</td>\n",
       "    </tr>\n",
       "    <tr>\n",
       "      <th>4</th>\n",
       "      <td>0.052031</td>\n",
       "      <td>The Middle East hasn't been destabilized for t...</td>\n",
       "      <td>middl east hasnt destabil thousand year romeby...</td>\n",
       "    </tr>\n",
       "    <tr>\n",
       "      <th>5</th>\n",
       "      <td>0.026232</td>\n",
       "      <td>I like that the 80s gameshow buzzer on the GOP...</td>\n",
       "      <td>like 80 gameshow buzzer gop debat fit hope nex...</td>\n",
       "    </tr>\n",
       "    <tr>\n",
       "      <th>6</th>\n",
       "      <td>0.042035</td>\n",
       "      <td>Replace ISIS with ICEE. It'll be great. Everyo...</td>\n",
       "      <td>replac isi ice itll great everyon love trumpfo...</td>\n",
       "    </tr>\n",
       "    <tr>\n",
       "      <th>7</th>\n",
       "      <td>0.003068</td>\n",
       "      <td>#GOPDebate my favs tonight: Carly Fiorina and ...</td>\n",
       "      <td>gopdeb fav tonight carli fiorina rubioüòû rub...</td>\n",
       "    </tr>\n",
       "    <tr>\n",
       "      <th>8</th>\n",
       "      <td>0.054915</td>\n",
       "      <td>This is probably the sanest thing said about U...</td>\n",
       "      <td>probabl sanest thing said us foreign polici to...</td>\n",
       "    </tr>\n",
       "    <tr>\n",
       "      <th>9</th>\n",
       "      <td>0.039544</td>\n",
       "      <td>Who the fuck is this guy? #GOPDebate</td>\n",
       "      <td>fuck guy gopdeb</td>\n",
       "    </tr>\n",
       "  </tbody>\n",
       "</table>\n",
       "</div>"
      ],
      "text/plain": [
       "      label                                               text  \\\n",
       "0  0.832307  It's TRUE how ppl cannot see it, they are all ...   \n",
       "1  0.030791  @JeffreyToobin please tell @wolfblitzer to KIL...   \n",
       "2  0.022389  If this debate was high school, I think I'd wa...   \n",
       "3  0.019604  War. Death. Fear. Killing. The only themes of ...   \n",
       "4  0.052031  The Middle East hasn't been destabilized for t...   \n",
       "5  0.026232  I like that the 80s gameshow buzzer on the GOP...   \n",
       "6  0.042035  Replace ISIS with ICEE. It'll be great. Everyo...   \n",
       "7  0.003068  #GOPDebate my favs tonight: Carly Fiorina and ...   \n",
       "8  0.054915  This is probably the sanest thing said about U...   \n",
       "9  0.039544               Who the fuck is this guy? #GOPDebate   \n",
       "\n",
       "                                             feature  \n",
       "0  true ppl see say thing trump said gopdeb trump...  \n",
       "1  jeffreytoobin pleas tell wolfblitz kill microp...  \n",
       "2  debat high school think id want ted cruz take ...  \n",
       "3           war death fear kill theme tonight gopdeb  \n",
       "4  middl east hasnt destabil thousand year romeby...  \n",
       "5  like 80 gameshow buzzer gop debat fit hope nex...  \n",
       "6  replac isi ice itll great everyon love trumpfo...  \n",
       "7  gopdeb fav tonight carli fiorina rubioüòû rub...  \n",
       "8  probabl sanest thing said us foreign polici to...  \n",
       "9                                    fuck guy gopdeb  "
      ]
     },
     "execution_count": 22,
     "metadata": {},
     "output_type": "execute_result"
    }
   ],
   "source": [
    "# predict on the unlabeled set\n",
    "df2 = pd.read_csv('PMChallenge2018/challenge2-unlabeledtestfile.txt', names=['label', 'text'], sep='\\t')\n",
    "df2['feature'] = df2['text'].apply(lambda x: preproc(x))\n",
    "X2 = t.transform(df2['feature'])\n",
    "df2['label'] = m.predict_proba(X2)[:,1]\n",
    "df2.head(10)"
   ]
  },
  {
   "cell_type": "code",
   "execution_count": 24,
   "metadata": {},
   "outputs": [],
   "source": [
    "df2['label'].to_csv('PMChallenge2018/challenge2-score.txt', index=False)"
   ]
  },
  {
   "cell_type": "code",
   "execution_count": null,
   "metadata": {},
   "outputs": [],
   "source": []
  }
 ],
 "metadata": {
  "kernelspec": {
   "display_name": "Python 3",
   "language": "python",
   "name": "python3"
  },
  "language_info": {
   "codemirror_mode": {
    "name": "ipython",
    "version": 3
   },
   "file_extension": ".py",
   "mimetype": "text/x-python",
   "name": "python",
   "nbconvert_exporter": "python",
   "pygments_lexer": "ipython3",
   "version": "3.6.1"
  }
 },
 "nbformat": 4,
 "nbformat_minor": 2
}
